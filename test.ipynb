{
 "cells": [
  {
   "cell_type": "code",
   "execution_count": 1,
   "metadata": {},
   "outputs": [],
   "source": [
    "# import tensorflow as tf\n",
    "\n",
    "# x = tf.Variable(0, name='counter')\n",
    "# assign_op = tf.assign(x, 0)\n",
    "# p = tf.placeholder(tf.int32, ())\n",
    "# with tf.control_dependencies([assign_op]):\n",
    "#     x = tf.assign_add(x, p, name='increment')\n",
    "#     x = tf.assign_add(x, p, name='increment_2')\n",
    "\n",
    "# with tf.Session() as sess:\n",
    "#     # writer = tf.summary.FileWriter('logs', sess.graph)\n",
    "#     sess.run(tf.global_variables_initializer())\n",
    "#     for _ in range(5):\n",
    "#         print(sess.run(x, {p: 1}))"
   ]
  },
  {
   "cell_type": "markdown",
   "metadata": {},
   "source": [
    "## test batchsize to be None"
   ]
  },
  {
   "cell_type": "code",
   "execution_count": 2,
   "metadata": {},
   "outputs": [],
   "source": [
    "import tensorflow as tf\n",
    "import numpy as np\n",
    "from utils import batch_scatter_add\n",
    "\n",
    "batch_size = 2\n",
    "num_ions = 2\n",
    "hidden_size = 3\n",
    "M = 5\n",
    "\n",
    "hr_np = np.arange(batch_size * 1 * num_ions * hidden_size).reshape(batch_size,1,num_ions,hidden_size).astype(np.float32)\n",
    "location_np = np.array([[0,4], [2, 4]]).astype(np.int32).reshape(2,1,2)\n",
    "location_index = tf.placeholder(tf.int32, (None, 1, num_ions), name='location')\n",
    "#ion_hidden_represent = tf.placeholder(tf.float32, (batch_size, 1, num_ions, hidden_size), name='hidden_representation')\n",
    "ion_hidden_represent = tf.Variable(hr_np, name='hidden_represent', trainable=True)\n",
    "resized_ion_hidden = tf.reshape(ion_hidden_represent, (-1, num_ions, hidden_size))\n",
    "resized_location_index = tf.reshape(location_index, (-1, num_ions))\n",
    "\n",
    "output = tf.zeros((batch_size, M, hidden_size), dtype=tf.float32)\n",
    "\n",
    "gathered_output = tf.batch_gather(params=output, indices=resized_location_index) #(batch, resize_location_index, hidden_size)\n",
    "update = resized_ion_hidden\n",
    "output = batch_scatter_add(ref=output, indices=resized_location_index, updates=update, name='batch_scatter_add')\n",
    "final_output = tf.reduce_mean(output)\n",
    "gradient = tf.gradients(final_output, output)\n",
    "gradient_to_hidden = tf.gradients(final_output, ion_hidden_represent)[0]\n"
   ]
  },
  {
   "cell_type": "code",
   "execution_count": 3,
   "metadata": {},
   "outputs": [
    {
     "name": "stdout",
     "output_type": "stream",
     "text": [
      "2.2\n",
      "2.2\n",
      "[[[ 0.  1.  2.]\n",
      "  [ 0.  0.  0.]\n",
      "  [ 0.  0.  0.]\n",
      "  [ 0.  0.  0.]\n",
      "  [ 3.  4.  5.]]\n",
      "\n",
      " [[ 0.  0.  0.]\n",
      "  [ 0.  0.  0.]\n",
      "  [ 6.  7.  8.]\n",
      "  [ 0.  0.  0.]\n",
      "  [ 9. 10. 11.]]]\n",
      "[[[[0.03333334 0.03333334 0.03333334]\n",
      "   [0.03333334 0.03333334 0.03333334]]]\n",
      "\n",
      "\n",
      " [[[0.03333334 0.03333334 0.03333334]\n",
      "   [0.03333334 0.03333334 0.03333334]]]]\n"
     ]
    }
   ],
   "source": [
    "with tf.Session() as sess:\n",
    "    init_op = tf.initializers.variables(tf.global_variables())\n",
    "    sess.run(init_op)\n",
    "    #print(sess.run(gathered_output, feed_dict={location_index:location_np}))\n",
    "    print(sess.run(final_output, feed_dict={location_index:location_np}))\n",
    "    print(sess.run(final_output, feed_dict={location_index:location_np}))\n",
    "    print(sess.run(output, feed_dict={location_index:location_np}))\n",
    "    print(sess.run(gradient_to_hidden, feed_dict={location_index:location_np}))"
   ]
  },
  {
   "cell_type": "code",
   "execution_count": 7,
   "metadata": {},
   "outputs": [
    {
     "data": {
      "text/plain": [
       "True"
      ]
     },
     "execution_count": 7,
     "metadata": {},
     "output_type": "execute_result"
    }
   ],
   "source": [
    "np.allclose(np.zeros(2), np.zeros(2))"
   ]
  },
  {
   "cell_type": "code",
   "execution_count": null,
   "metadata": {},
   "outputs": [],
   "source": []
  }
 ],
 "metadata": {
  "kernelspec": {
   "display_name": "Python 3",
   "language": "python",
   "name": "python3"
  },
  "language_info": {
   "codemirror_mode": {
    "name": "ipython",
    "version": 3
   },
   "file_extension": ".py",
   "mimetype": "text/x-python",
   "name": "python",
   "nbconvert_exporter": "python",
   "pygments_lexer": "ipython3",
   "version": "3.6.6"
  }
 },
 "nbformat": 4,
 "nbformat_minor": 2
}
