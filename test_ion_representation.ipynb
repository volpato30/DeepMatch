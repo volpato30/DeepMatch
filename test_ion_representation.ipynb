{
 "cells": [
  {
   "cell_type": "code",
   "execution_count": 1,
   "metadata": {},
   "outputs": [],
   "source": [
    "import tensorflow as tf\n",
    "import numpy as np"
   ]
  },
  {
   "cell_type": "markdown",
   "metadata": {},
   "source": [
    "## test the ion representation model"
   ]
  },
  {
   "cell_type": "code",
   "execution_count": 2,
   "metadata": {},
   "outputs": [],
   "source": [
    "batch_size = 2\n",
    "num_ions = 2\n",
    "hidden_size = 3\n",
    "M = 5"
   ]
  },
  {
   "cell_type": "code",
   "execution_count": 3,
   "metadata": {},
   "outputs": [],
   "source": [
    "hr_np = np.arange(batch_size * 1 * num_ions * hidden_size).reshape(batch_size,1,num_ions,hidden_size).astype(np.float32)\n",
    "location_np = np.array([[0,4], [2, 4]]).astype(np.int32).reshape(2,1,2)"
   ]
  },
  {
   "cell_type": "code",
   "execution_count": 4,
   "metadata": {},
   "outputs": [],
   "source": [
    "location_index = tf.placeholder(tf.int32, (batch_size, 1, num_ions), name='location')\n",
    "#ion_hidden_represent = tf.placeholder(tf.float32, (batch_size, 1, num_ions, hidden_size), name='hidden_representation')\n",
    "ion_hidden_represent = tf.constant(hr_np)\n",
    "resized_ion_hidden = tf.reshape(ion_hidden_represent, (-1, num_ions, hidden_size))\n",
    "resized_location_index = tf.reshape(location_index, (-1, num_ions))"
   ]
  },
  {
   "cell_type": "code",
   "execution_count": 9,
   "metadata": {},
   "outputs": [],
   "source": [
    "output = tf.Variable(tf.zeros((batch_size, M, hidden_size), dtype=tf.float32), trainable=False, collections=['not_saved'])\n",
    "# make sure in before each forward step output is reset to 0\n",
    "assign_op = tf.assign(output, tf.zeros((batch_size, M, hidden_size)))\n",
    "\n",
    "\n",
    "with tf.control_dependencies([tf.identity(assign_op), tf.identity(resized_location_index)]):\n",
    "    gathered_output = tf.batch_gather(params=output, indices=resized_location_index) #(batch, resize_location_index, hidden_size)\n",
    "    update = gathered_output + resized_ion_hidden\n",
    "    output = tf.batch_scatter_update(ref=output, indices=resized_location_index, updates=update, name='batch_scatter_update')\n",
    "final_output = tf.reduce_mean(output)"
   ]
  },
  {
   "cell_type": "code",
   "execution_count": 15,
   "metadata": {},
   "outputs": [
    {
     "name": "stdout",
     "output_type": "stream",
     "text": [
      "2.2\n",
      "2.2\n",
      "[[[ 0.  1.  2.]\n",
      "  [ 0.  0.  0.]\n",
      "  [ 0.  0.  0.]\n",
      "  [ 0.  0.  0.]\n",
      "  [ 3.  4.  5.]]\n",
      "\n",
      " [[ 0.  0.  0.]\n",
      "  [ 0.  0.  0.]\n",
      "  [ 6.  7.  8.]\n",
      "  [ 0.  0.  0.]\n",
      "  [ 9. 10. 11.]]]\n"
     ]
    }
   ],
   "source": [
    "with tf.Session() as sess:\n",
    "    init_op = tf.initializers.variables(tf.global_variables() + tf.get_collection('not_saved'))\n",
    "    sess.run(init_op)\n",
    "    #print(sess.run(gathered_output, feed_dict={location_index:location_np}))\n",
    "    print(sess.run(final_output, feed_dict={location_index:location_np}))\n",
    "    print(sess.run(final_output, feed_dict={location_index:location_np}))\n",
    "    print(sess.run(output, feed_dict={location_index:location_np}))"
   ]
  },
  {
   "cell_type": "code",
   "execution_count": null,
   "metadata": {},
   "outputs": [],
   "source": [
    "ion_hidden_represent"
   ]
  },
  {
   "cell_type": "code",
   "execution_count": null,
   "metadata": {},
   "outputs": [],
   "source": []
  }
 ],
 "metadata": {
  "kernelspec": {
   "display_name": "Python 3",
   "language": "python",
   "name": "python3"
  },
  "language_info": {
   "codemirror_mode": {
    "name": "ipython",
    "version": 3
   },
   "file_extension": ".py",
   "mimetype": "text/x-python",
   "name": "python",
   "nbconvert_exporter": "python",
   "pygments_lexer": "ipython3",
   "version": "3.6.6"
  }
 },
 "nbformat": 4,
 "nbformat_minor": 2
}
